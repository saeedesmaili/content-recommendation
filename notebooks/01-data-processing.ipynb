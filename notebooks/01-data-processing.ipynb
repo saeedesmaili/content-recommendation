{
 "cells": [
  {
   "cell_type": "code",
   "execution_count": 14,
   "metadata": {},
   "outputs": [
    {
     "data": {
      "text/plain": [
       "True"
      ]
     },
     "execution_count": 14,
     "metadata": {},
     "output_type": "execute_result"
    }
   ],
   "source": [
    "import os\n",
    "from datetime import datetime\n",
    "\n",
    "import requests\n",
    "from pydantic import BaseModel, HttpUrl\n",
    "import pandas as pd\n",
    "from dotenv import load_dotenv\n",
    "\n",
    "load_dotenv()"
   ]
  },
  {
   "cell_type": "markdown",
   "metadata": {},
   "source": [
    "## 1. List of likes articles\n"
   ]
  },
  {
   "cell_type": "code",
   "execution_count": 3,
   "metadata": {},
   "outputs": [],
   "source": [
    "class Article(BaseModel):\n",
    "    pocket_item_id: int\n",
    "    given_url: HttpUrl\n",
    "    resolved_url: HttpUrl\n",
    "    title: str\n",
    "    time_added: datetime\n",
    "    word_count: int\n",
    "    domain: str"
   ]
  },
  {
   "cell_type": "markdown",
   "metadata": {},
   "source": [
    "### a. From Pocket"
   ]
  },
  {
   "cell_type": "code",
   "execution_count": 15,
   "metadata": {},
   "outputs": [],
   "source": [
    "POCKET_HEADERS = {\n",
    "    \"Content-Type\": \"application/json; charset=UTF8\",\n",
    "    \"X-Accept\": \"application/json\",\n",
    "}\n",
    "POCKET_CONSUMER_KEY = os.getenv(\"POCKET_CONSUMER_KEY\")"
   ]
  },
  {
   "cell_type": "markdown",
   "metadata": {},
   "source": [
    "#### Authorize"
   ]
  },
  {
   "cell_type": "markdown",
   "metadata": {},
   "source": [
    "Skip to `Read from .env file` if you have authorized previously. Otherwise:"
   ]
  },
  {
   "cell_type": "code",
   "execution_count": null,
   "metadata": {},
   "outputs": [],
   "source": [
    "data = {\"consumer_key\": POCKET_CONSUMER_KEY, \"redirect_uri\": \"https://127.0.0.1\"}\n",
    "url = \"https://getpocket.com/v3/oauth/request\"\n",
    "r = requests.request(\"Post\", url=url, headers=POCKET_HEADERS, json=data)\n",
    "# {\"code\": \"abcd-1234-abcd-1234\", 'state': None}\n",
    "\n",
    "POCKET_CODE = r.json()[\"code\"]"
   ]
  },
  {
   "cell_type": "markdown",
   "metadata": {},
   "source": [
    "Replace `your-code` in the following url with the code value you get, and open the url in your browser, grant access, close the tab, then get back here and run the next cell to get access token:\n",
    "\n",
    "https://getpocket.com/auth/authorize?request_token=your-code&redirect_uri=https://127.0.0.1\n"
   ]
  },
  {
   "cell_type": "code",
   "execution_count": null,
   "metadata": {},
   "outputs": [],
   "source": [
    "data = {\"consumer_key\": POCKET_CONSUMER_KEY, \"code\": POCKET_CODE}\n",
    "url = \"https://getpocket.com/v3/oauth/authorize\"\n",
    "r = requests.request(\"Post\", url=url, headers=POCKET_HEADERS, json=data)\n",
    "# {\"access_token\": \"efgh-1234-efgh-1234\", \"username\": \"your-username\"}\n",
    "\n",
    "POCKET_ACCESS_TOKEN = r.json()[\"access_token\"]"
   ]
  },
  {
   "cell_type": "markdown",
   "metadata": {},
   "source": [
    "Add the `access_token` to `.env` file, so you can skip the authorization steps above next times and just use the following:"
   ]
  },
  {
   "cell_type": "markdown",
   "metadata": {},
   "source": [
    "#### Read from `.env` file"
   ]
  },
  {
   "cell_type": "code",
   "execution_count": 16,
   "metadata": {},
   "outputs": [],
   "source": [
    "POCKET_ACCESS_TOKEN = os.getenv(\"POCKET_ACCESS_TOKEN\")"
   ]
  },
  {
   "cell_type": "code",
   "execution_count": 6,
   "metadata": {},
   "outputs": [
    {
     "name": "stdout",
     "output_type": "stream",
     "text": [
      "Fetching more articles... 500 / 3692\n",
      "Fetching more articles... 1000 / 3692\n",
      "Fetching more articles... 1500 / 3692\n",
      "Fetching more articles... 2000 / 3692\n",
      "Error processing item 3945908435: 1 validation error for Article\n",
      "resolved_url\n",
      "  Input should be a valid URL, input is empty [type=url_parsing, input_value='', input_type=str]\n",
      "    For further information visit https://errors.pydantic.dev/2.10/v/url_parsing\n",
      "Fetching more articles... 2500 / 3692\n",
      "Fetching more articles... 3000 / 3692\n",
      "Fetching more articles... 3500 / 3692\n",
      "Fetched 4000 articles\n",
      "3691\n"
     ]
    },
    {
     "data": {
      "text/plain": [
       "Article(pocket_item_id=5598506, given_url=HttpUrl('https://nat.org/'), resolved_url=HttpUrl('http://nat.org/'), title='Nat Friedman', time_added=datetime.datetime(2025, 1, 15, 11, 20, 58), word_count=451, domain='nat.org')"
      ]
     },
     "execution_count": 6,
     "metadata": {},
     "output_type": "execute_result"
    }
   ],
   "source": [
    "def get_pocket_items(state: str = \"archive\") -> list[Article]:\n",
    "    \"\"\"\n",
    "    Get all items archive in pocket\n",
    "    \"\"\"\n",
    "    pocket_items = []\n",
    "    count = 500\n",
    "    offset = 0\n",
    "    while True:\n",
    "        payload = {\n",
    "            \"consumer_key\": POCKET_CONSUMER_KEY,\n",
    "            \"access_token\": POCKET_ACCESS_TOKEN,\n",
    "            \"state\": state,\n",
    "            \"sort\": \"newest\",\n",
    "            \"count\": count,\n",
    "            \"offset\": offset,\n",
    "            \"detailType\": \"complete\",\n",
    "            \"total\": \"1\",  ## total number of archived articles\n",
    "        }\n",
    "\n",
    "        url = \"https://getpocket.com/v3/get\"\n",
    "        r = requests.request(\"Post\", url=url, headers=POCKET_HEADERS, json=payload)\n",
    "\n",
    "        for item in r.json()[\"list\"]:\n",
    "            pocket_item = r.json()[\"list\"][item]\n",
    "            try:\n",
    "                pocket_items.append(\n",
    "                    Article(\n",
    "                        pocket_item_id=int(pocket_item[\"item_id\"]),\n",
    "                        given_url=pocket_item[\"given_url\"],\n",
    "                        resolved_url=pocket_item[\"resolved_url\"],\n",
    "                        title=pocket_item[\"resolved_title\"],\n",
    "                        time_added=datetime.fromtimestamp(\n",
    "                            int(pocket_item[\"time_added\"])\n",
    "                        ),\n",
    "                        word_count=int(pocket_item[\"word_count\"]),\n",
    "                        domain=pocket_item.get(\"domain_metadata\", {}).get(\"name\", \"\"),\n",
    "                    )\n",
    "                )\n",
    "            except Exception as e:\n",
    "                print(f\"Error processing item {pocket_item['item_id']}: {e}\")\n",
    "                continue\n",
    "\n",
    "        if int(r.json()[\"total\"]) > count + offset:\n",
    "            print(f\"Fetching more articles... {count + offset} / {r.json()['total']}\")\n",
    "            offset += count\n",
    "        else:\n",
    "            print(f\"Fetched {offset + count} articles\")\n",
    "            break\n",
    "\n",
    "    return pocket_items\n",
    "\n",
    "\n",
    "pocket_items = get_pocket_items()\n",
    "print(len(pocket_items))\n",
    "pocket_items[0]"
   ]
  },
  {
   "cell_type": "code",
   "execution_count": 11,
   "metadata": {},
   "outputs": [
    {
     "data": {
      "text/html": [
       "<div>\n",
       "<style scoped>\n",
       "    .dataframe tbody tr th:only-of-type {\n",
       "        vertical-align: middle;\n",
       "    }\n",
       "\n",
       "    .dataframe tbody tr th {\n",
       "        vertical-align: top;\n",
       "    }\n",
       "\n",
       "    .dataframe thead th {\n",
       "        text-align: right;\n",
       "    }\n",
       "</style>\n",
       "<table border=\"1\" class=\"dataframe\">\n",
       "  <thead>\n",
       "    <tr style=\"text-align: right;\">\n",
       "      <th></th>\n",
       "      <th>pocket_item_id</th>\n",
       "      <th>given_url</th>\n",
       "      <th>resolved_url</th>\n",
       "      <th>title</th>\n",
       "      <th>time_added</th>\n",
       "      <th>word_count</th>\n",
       "      <th>domain</th>\n",
       "    </tr>\n",
       "  </thead>\n",
       "  <tbody>\n",
       "    <tr>\n",
       "      <th>0</th>\n",
       "      <td>5598506</td>\n",
       "      <td>https://nat.org/</td>\n",
       "      <td>http://nat.org/</td>\n",
       "      <td>Nat Friedman</td>\n",
       "      <td>2025-01-15 11:20:58</td>\n",
       "      <td>451</td>\n",
       "      <td>nat.org</td>\n",
       "    </tr>\n",
       "    <tr>\n",
       "      <th>1</th>\n",
       "      <td>42378269</td>\n",
       "      <td>https://matt.might.net/articles/shell-scripts-...</td>\n",
       "      <td>http://matt.might.net/articles/shell-scripts-f...</td>\n",
       "      <td>3 shell scripts to improve your writing, or \"M...</td>\n",
       "      <td>2024-12-29 12:19:45</td>\n",
       "      <td>1881</td>\n",
       "      <td>matt.might.net</td>\n",
       "    </tr>\n",
       "    <tr>\n",
       "      <th>2</th>\n",
       "      <td>132470062</td>\n",
       "      <td>https://www.kalzumeus.com/2012/01/23/salary-ne...</td>\n",
       "      <td>https://www.kalzumeus.com/2012/01/23/salary-ne...</td>\n",
       "      <td>Salary Negotiation: Make More Money, Be More V...</td>\n",
       "      <td>2024-11-15 12:07:03</td>\n",
       "      <td>6794</td>\n",
       "      <td>www.kalzumeus.com</td>\n",
       "    </tr>\n",
       "    <tr>\n",
       "      <th>3</th>\n",
       "      <td>172658679</td>\n",
       "      <td>https://stevehanov.ca/blog/index.php?id=132</td>\n",
       "      <td>http://stevehanov.ca/blog/index.php?id=132</td>\n",
       "      <td>20 lines of code that will beat A/B testing ev...</td>\n",
       "      <td>2025-01-15 00:24:49</td>\n",
       "      <td>970</td>\n",
       "      <td>stevehanov.ca</td>\n",
       "    </tr>\n",
       "    <tr>\n",
       "      <th>4</th>\n",
       "      <td>210539245</td>\n",
       "      <td>https://digital-photography-school.com/6-reaso...</td>\n",
       "      <td>https://digital-photography-school.com/6-reaso...</td>\n",
       "      <td>9 Reasons Why Photography Matters</td>\n",
       "      <td>2024-12-02 23:13:34</td>\n",
       "      <td>2312</td>\n",
       "      <td>Digital Photography School</td>\n",
       "    </tr>\n",
       "  </tbody>\n",
       "</table>\n",
       "</div>"
      ],
      "text/plain": [
       "   pocket_item_id                                          given_url  \\\n",
       "0         5598506                                   https://nat.org/   \n",
       "1        42378269  https://matt.might.net/articles/shell-scripts-...   \n",
       "2       132470062  https://www.kalzumeus.com/2012/01/23/salary-ne...   \n",
       "3       172658679        https://stevehanov.ca/blog/index.php?id=132   \n",
       "4       210539245  https://digital-photography-school.com/6-reaso...   \n",
       "\n",
       "                                        resolved_url  \\\n",
       "0                                    http://nat.org/   \n",
       "1  http://matt.might.net/articles/shell-scripts-f...   \n",
       "2  https://www.kalzumeus.com/2012/01/23/salary-ne...   \n",
       "3         http://stevehanov.ca/blog/index.php?id=132   \n",
       "4  https://digital-photography-school.com/6-reaso...   \n",
       "\n",
       "                                               title          time_added  \\\n",
       "0                                       Nat Friedman 2025-01-15 11:20:58   \n",
       "1  3 shell scripts to improve your writing, or \"M... 2024-12-29 12:19:45   \n",
       "2  Salary Negotiation: Make More Money, Be More V... 2024-11-15 12:07:03   \n",
       "3  20 lines of code that will beat A/B testing ev... 2025-01-15 00:24:49   \n",
       "4                  9 Reasons Why Photography Matters 2024-12-02 23:13:34   \n",
       "\n",
       "   word_count                      domain  \n",
       "0         451                     nat.org  \n",
       "1        1881              matt.might.net  \n",
       "2        6794           www.kalzumeus.com  \n",
       "3         970               stevehanov.ca  \n",
       "4        2312  Digital Photography School  "
      ]
     },
     "execution_count": 11,
     "metadata": {},
     "output_type": "execute_result"
    }
   ],
   "source": [
    "df = pd.DataFrame([article.model_dump() for article in pocket_items])\n",
    "df.to_csv(\"pocket_articles.csv\", index=False)\n",
    "df.head()"
   ]
  },
  {
   "cell_type": "markdown",
   "metadata": {},
   "source": [
    "### b. From csv file"
   ]
  },
  {
   "cell_type": "code",
   "execution_count": 17,
   "metadata": {},
   "outputs": [
    {
     "data": {
      "text/html": [
       "<div>\n",
       "<style scoped>\n",
       "    .dataframe tbody tr th:only-of-type {\n",
       "        vertical-align: middle;\n",
       "    }\n",
       "\n",
       "    .dataframe tbody tr th {\n",
       "        vertical-align: top;\n",
       "    }\n",
       "\n",
       "    .dataframe thead th {\n",
       "        text-align: right;\n",
       "    }\n",
       "</style>\n",
       "<table border=\"1\" class=\"dataframe\">\n",
       "  <thead>\n",
       "    <tr style=\"text-align: right;\">\n",
       "      <th></th>\n",
       "      <th>pocket_item_id</th>\n",
       "      <th>given_url</th>\n",
       "      <th>resolved_url</th>\n",
       "      <th>title</th>\n",
       "      <th>time_added</th>\n",
       "      <th>word_count</th>\n",
       "      <th>domain</th>\n",
       "    </tr>\n",
       "  </thead>\n",
       "  <tbody>\n",
       "    <tr>\n",
       "      <th>0</th>\n",
       "      <td>5598506</td>\n",
       "      <td>https://nat.org/</td>\n",
       "      <td>http://nat.org/</td>\n",
       "      <td>Nat Friedman</td>\n",
       "      <td>2025-01-15 11:20:58</td>\n",
       "      <td>451</td>\n",
       "      <td>nat.org</td>\n",
       "    </tr>\n",
       "    <tr>\n",
       "      <th>1</th>\n",
       "      <td>42378269</td>\n",
       "      <td>https://matt.might.net/articles/shell-scripts-...</td>\n",
       "      <td>http://matt.might.net/articles/shell-scripts-f...</td>\n",
       "      <td>3 shell scripts to improve your writing, or \"M...</td>\n",
       "      <td>2024-12-29 12:19:45</td>\n",
       "      <td>1881</td>\n",
       "      <td>matt.might.net</td>\n",
       "    </tr>\n",
       "    <tr>\n",
       "      <th>2</th>\n",
       "      <td>132470062</td>\n",
       "      <td>https://www.kalzumeus.com/2012/01/23/salary-ne...</td>\n",
       "      <td>https://www.kalzumeus.com/2012/01/23/salary-ne...</td>\n",
       "      <td>Salary Negotiation: Make More Money, Be More V...</td>\n",
       "      <td>2024-11-15 12:07:03</td>\n",
       "      <td>6794</td>\n",
       "      <td>www.kalzumeus.com</td>\n",
       "    </tr>\n",
       "    <tr>\n",
       "      <th>3</th>\n",
       "      <td>172658679</td>\n",
       "      <td>https://stevehanov.ca/blog/index.php?id=132</td>\n",
       "      <td>http://stevehanov.ca/blog/index.php?id=132</td>\n",
       "      <td>20 lines of code that will beat A/B testing ev...</td>\n",
       "      <td>2025-01-15 00:24:49</td>\n",
       "      <td>970</td>\n",
       "      <td>stevehanov.ca</td>\n",
       "    </tr>\n",
       "    <tr>\n",
       "      <th>4</th>\n",
       "      <td>210539245</td>\n",
       "      <td>https://digital-photography-school.com/6-reaso...</td>\n",
       "      <td>https://digital-photography-school.com/6-reaso...</td>\n",
       "      <td>9 Reasons Why Photography Matters</td>\n",
       "      <td>2024-12-02 23:13:34</td>\n",
       "      <td>2312</td>\n",
       "      <td>Digital Photography School</td>\n",
       "    </tr>\n",
       "  </tbody>\n",
       "</table>\n",
       "</div>"
      ],
      "text/plain": [
       "   pocket_item_id                                          given_url  \\\n",
       "0         5598506                                   https://nat.org/   \n",
       "1        42378269  https://matt.might.net/articles/shell-scripts-...   \n",
       "2       132470062  https://www.kalzumeus.com/2012/01/23/salary-ne...   \n",
       "3       172658679        https://stevehanov.ca/blog/index.php?id=132   \n",
       "4       210539245  https://digital-photography-school.com/6-reaso...   \n",
       "\n",
       "                                        resolved_url  \\\n",
       "0                                    http://nat.org/   \n",
       "1  http://matt.might.net/articles/shell-scripts-f...   \n",
       "2  https://www.kalzumeus.com/2012/01/23/salary-ne...   \n",
       "3         http://stevehanov.ca/blog/index.php?id=132   \n",
       "4  https://digital-photography-school.com/6-reaso...   \n",
       "\n",
       "                                               title           time_added  \\\n",
       "0                                       Nat Friedman  2025-01-15 11:20:58   \n",
       "1  3 shell scripts to improve your writing, or \"M...  2024-12-29 12:19:45   \n",
       "2  Salary Negotiation: Make More Money, Be More V...  2024-11-15 12:07:03   \n",
       "3  20 lines of code that will beat A/B testing ev...  2025-01-15 00:24:49   \n",
       "4                  9 Reasons Why Photography Matters  2024-12-02 23:13:34   \n",
       "\n",
       "   word_count                      domain  \n",
       "0         451                     nat.org  \n",
       "1        1881              matt.might.net  \n",
       "2        6794           www.kalzumeus.com  \n",
       "3         970               stevehanov.ca  \n",
       "4        2312  Digital Photography School  "
      ]
     },
     "execution_count": 17,
     "metadata": {},
     "output_type": "execute_result"
    }
   ],
   "source": [
    "df = pd.read_csv(\"pocket_articles.csv\")\n",
    "df.head()"
   ]
  },
  {
   "cell_type": "markdown",
   "metadata": {},
   "source": [
    "## Extract texts using `r.jina.ai`"
   ]
  },
  {
   "cell_type": "code",
   "execution_count": 18,
   "metadata": {},
   "outputs": [],
   "source": [
    "JINA_API_KEY = os.getenv(\"JINA_API_KEY\")"
   ]
  },
  {
   "cell_type": "code",
   "execution_count": null,
   "metadata": {},
   "outputs": [],
   "source": []
  }
 ],
 "metadata": {
  "kernelspec": {
   "display_name": ".venv",
   "language": "python",
   "name": "python3"
  },
  "language_info": {
   "codemirror_mode": {
    "name": "ipython",
    "version": 3
   },
   "file_extension": ".py",
   "mimetype": "text/x-python",
   "name": "python",
   "nbconvert_exporter": "python",
   "pygments_lexer": "ipython3",
   "version": "3.11.9"
  }
 },
 "nbformat": 4,
 "nbformat_minor": 2
}
