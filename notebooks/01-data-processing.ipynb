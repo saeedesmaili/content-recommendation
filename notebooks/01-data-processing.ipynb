{
 "cells": [
  {
   "cell_type": "code",
   "execution_count": 2,
   "metadata": {},
   "outputs": [
    {
     "data": {
      "text/plain": [
       "True"
      ]
     },
     "execution_count": 2,
     "metadata": {},
     "output_type": "execute_result"
    }
   ],
   "source": [
    "import os\n",
    "import re\n",
    "import json\n",
    "from datetime import datetime\n",
    "import time\n",
    "import random\n",
    "from concurrent.futures import ThreadPoolExecutor, as_completed\n",
    "\n",
    "import tqdm\n",
    "import requests\n",
    "from pydantic import BaseModel, HttpUrl\n",
    "import pandas as pd\n",
    "from dotenv import load_dotenv\n",
    "import tiktoken\n",
    "from openai import OpenAI\n",
    "\n",
    "load_dotenv()"
   ]
  },
  {
   "cell_type": "code",
   "execution_count": 14,
   "metadata": {},
   "outputs": [],
   "source": [
    "class Article(BaseModel):\n",
    "    pocket_item_id: int\n",
    "    given_url: HttpUrl\n",
    "    resolved_url: HttpUrl\n",
    "    title: str\n",
    "    time_added: datetime\n",
    "    word_count: int\n",
    "    domain: str\n",
    "    text: str | None = None\n",
    "    summary: str | None = None\n",
    "    summary_attempted_message: str | None = None"
   ]
  },
  {
   "cell_type": "markdown",
   "metadata": {},
   "source": [
    "## 1. List of likes articles\n"
   ]
  },
  {
   "cell_type": "markdown",
   "metadata": {},
   "source": [
    "### a. From Pocket\n"
   ]
  },
  {
   "cell_type": "code",
   "execution_count": 15,
   "metadata": {},
   "outputs": [],
   "source": [
    "POCKET_HEADERS = {\n",
    "    \"Content-Type\": \"application/json; charset=UTF8\",\n",
    "    \"X-Accept\": \"application/json\",\n",
    "}\n",
    "POCKET_CONSUMER_KEY = os.getenv(\"POCKET_CONSUMER_KEY\")"
   ]
  },
  {
   "cell_type": "markdown",
   "metadata": {},
   "source": [
    "#### Authorize\n"
   ]
  },
  {
   "cell_type": "markdown",
   "metadata": {},
   "source": [
    "Skip to `Read from .env file` if you have authorized previously. Otherwise:\n"
   ]
  },
  {
   "cell_type": "code",
   "execution_count": null,
   "metadata": {},
   "outputs": [],
   "source": [
    "data = {\"consumer_key\": POCKET_CONSUMER_KEY, \"redirect_uri\": \"https://127.0.0.1\"}\n",
    "url = \"https://getpocket.com/v3/oauth/request\"\n",
    "r = requests.request(\"Post\", url=url, headers=POCKET_HEADERS, json=data)\n",
    "# {\"code\": \"abcd-1234-abcd-1234\", 'state': None}\n",
    "\n",
    "POCKET_CODE = r.json()[\"code\"]"
   ]
  },
  {
   "cell_type": "markdown",
   "metadata": {},
   "source": [
    "Replace `your-code` in the following url with the code value you get, and open the url in your browser, grant access, close the tab, then get back here and run the next cell to get access token:\n",
    "\n",
    "https://getpocket.com/auth/authorize?request_token=your-code&redirect_uri=https://127.0.0.1\n"
   ]
  },
  {
   "cell_type": "code",
   "execution_count": null,
   "metadata": {},
   "outputs": [],
   "source": [
    "data = {\"consumer_key\": POCKET_CONSUMER_KEY, \"code\": POCKET_CODE}\n",
    "url = \"https://getpocket.com/v3/oauth/authorize\"\n",
    "r = requests.request(\"Post\", url=url, headers=POCKET_HEADERS, json=data)\n",
    "# {\"access_token\": \"efgh-1234-efgh-1234\", \"username\": \"your-username\"}\n",
    "\n",
    "POCKET_ACCESS_TOKEN = r.json()[\"access_token\"]"
   ]
  },
  {
   "cell_type": "markdown",
   "metadata": {},
   "source": [
    "Add the `access_token` to `.env` file, so you can skip the authorization steps above next times and just use the following:\n"
   ]
  },
  {
   "cell_type": "markdown",
   "metadata": {},
   "source": [
    "#### Read from `.env` file\n"
   ]
  },
  {
   "cell_type": "code",
   "execution_count": 16,
   "metadata": {},
   "outputs": [],
   "source": [
    "POCKET_ACCESS_TOKEN = os.getenv(\"POCKET_ACCESS_TOKEN\")"
   ]
  },
  {
   "cell_type": "code",
   "execution_count": 6,
   "metadata": {},
   "outputs": [
    {
     "name": "stdout",
     "output_type": "stream",
     "text": [
      "Fetching more articles... 500 / 3692\n",
      "Fetching more articles... 1000 / 3692\n",
      "Fetching more articles... 1500 / 3692\n",
      "Fetching more articles... 2000 / 3692\n",
      "Error processing item 3945908435: 1 validation error for Article\n",
      "resolved_url\n",
      "  Input should be a valid URL, input is empty [type=url_parsing, input_value='', input_type=str]\n",
      "    For further information visit https://errors.pydantic.dev/2.10/v/url_parsing\n",
      "Fetching more articles... 2500 / 3692\n",
      "Fetching more articles... 3000 / 3692\n",
      "Fetching more articles... 3500 / 3692\n",
      "Fetched 4000 articles\n",
      "3691\n"
     ]
    },
    {
     "data": {
      "text/plain": [
       "Article(pocket_item_id=5598506, given_url=HttpUrl('https://nat.org/'), resolved_url=HttpUrl('http://nat.org/'), title='Nat Friedman', time_added=datetime.datetime(2025, 1, 15, 11, 20, 58), word_count=451, domain='nat.org')"
      ]
     },
     "execution_count": 6,
     "metadata": {},
     "output_type": "execute_result"
    }
   ],
   "source": [
    "def get_pocket_items(state: str = \"archive\") -> list[Article]:\n",
    "    \"\"\"\n",
    "    Get all items archive in pocket\n",
    "    \"\"\"\n",
    "    pocket_items = []\n",
    "    count = 500\n",
    "    offset = 0\n",
    "    while True:\n",
    "        payload = {\n",
    "            \"consumer_key\": POCKET_CONSUMER_KEY,\n",
    "            \"access_token\": POCKET_ACCESS_TOKEN,\n",
    "            \"state\": state,\n",
    "            \"sort\": \"newest\",\n",
    "            \"count\": count,\n",
    "            \"offset\": offset,\n",
    "            \"detailType\": \"complete\",\n",
    "            \"total\": \"1\",  ## total number of archived articles\n",
    "        }\n",
    "\n",
    "        url = \"https://getpocket.com/v3/get\"\n",
    "        r = requests.request(\"Post\", url=url, headers=POCKET_HEADERS, json=payload)\n",
    "\n",
    "        for item in r.json()[\"list\"]:\n",
    "            pocket_item = r.json()[\"list\"][item]\n",
    "            try:\n",
    "                pocket_items.append(\n",
    "                    Article(\n",
    "                        pocket_item_id=int(pocket_item[\"item_id\"]),\n",
    "                        given_url=pocket_item[\"given_url\"],\n",
    "                        resolved_url=pocket_item[\"resolved_url\"],\n",
    "                        title=pocket_item[\"resolved_title\"],\n",
    "                        time_added=datetime.fromtimestamp(\n",
    "                            int(pocket_item[\"time_added\"])\n",
    "                        ),\n",
    "                        word_count=int(pocket_item[\"word_count\"]),\n",
    "                        domain=pocket_item.get(\"domain_metadata\", {}).get(\"name\", \"\"),\n",
    "                    )\n",
    "                )\n",
    "            except Exception as e:\n",
    "                print(f\"Error processing item {pocket_item['item_id']}: {e}\")\n",
    "                continue\n",
    "\n",
    "        if int(r.json()[\"total\"]) > count + offset:\n",
    "            print(f\"Fetching more articles... {count + offset} / {r.json()['total']}\")\n",
    "            offset += count\n",
    "        else:\n",
    "            print(f\"Fetched {offset + count} articles\")\n",
    "            break\n",
    "\n",
    "    return pocket_items\n",
    "\n",
    "\n",
    "pocket_items = get_pocket_items()\n",
    "print(len(pocket_items))\n",
    "pocket_items[0]"
   ]
  },
  {
   "cell_type": "code",
   "execution_count": 11,
   "metadata": {},
   "outputs": [
    {
     "data": {
      "text/html": [
       "<div>\n",
       "<style scoped>\n",
       "    .dataframe tbody tr th:only-of-type {\n",
       "        vertical-align: middle;\n",
       "    }\n",
       "\n",
       "    .dataframe tbody tr th {\n",
       "        vertical-align: top;\n",
       "    }\n",
       "\n",
       "    .dataframe thead th {\n",
       "        text-align: right;\n",
       "    }\n",
       "</style>\n",
       "<table border=\"1\" class=\"dataframe\">\n",
       "  <thead>\n",
       "    <tr style=\"text-align: right;\">\n",
       "      <th></th>\n",
       "      <th>pocket_item_id</th>\n",
       "      <th>given_url</th>\n",
       "      <th>resolved_url</th>\n",
       "      <th>title</th>\n",
       "      <th>time_added</th>\n",
       "      <th>word_count</th>\n",
       "      <th>domain</th>\n",
       "    </tr>\n",
       "  </thead>\n",
       "  <tbody>\n",
       "    <tr>\n",
       "      <th>0</th>\n",
       "      <td>5598506</td>\n",
       "      <td>https://nat.org/</td>\n",
       "      <td>http://nat.org/</td>\n",
       "      <td>Nat Friedman</td>\n",
       "      <td>2025-01-15 11:20:58</td>\n",
       "      <td>451</td>\n",
       "      <td>nat.org</td>\n",
       "    </tr>\n",
       "    <tr>\n",
       "      <th>1</th>\n",
       "      <td>42378269</td>\n",
       "      <td>https://matt.might.net/articles/shell-scripts-...</td>\n",
       "      <td>http://matt.might.net/articles/shell-scripts-f...</td>\n",
       "      <td>3 shell scripts to improve your writing, or \"M...</td>\n",
       "      <td>2024-12-29 12:19:45</td>\n",
       "      <td>1881</td>\n",
       "      <td>matt.might.net</td>\n",
       "    </tr>\n",
       "    <tr>\n",
       "      <th>2</th>\n",
       "      <td>132470062</td>\n",
       "      <td>https://www.kalzumeus.com/2012/01/23/salary-ne...</td>\n",
       "      <td>https://www.kalzumeus.com/2012/01/23/salary-ne...</td>\n",
       "      <td>Salary Negotiation: Make More Money, Be More V...</td>\n",
       "      <td>2024-11-15 12:07:03</td>\n",
       "      <td>6794</td>\n",
       "      <td>www.kalzumeus.com</td>\n",
       "    </tr>\n",
       "    <tr>\n",
       "      <th>3</th>\n",
       "      <td>172658679</td>\n",
       "      <td>https://stevehanov.ca/blog/index.php?id=132</td>\n",
       "      <td>http://stevehanov.ca/blog/index.php?id=132</td>\n",
       "      <td>20 lines of code that will beat A/B testing ev...</td>\n",
       "      <td>2025-01-15 00:24:49</td>\n",
       "      <td>970</td>\n",
       "      <td>stevehanov.ca</td>\n",
       "    </tr>\n",
       "    <tr>\n",
       "      <th>4</th>\n",
       "      <td>210539245</td>\n",
       "      <td>https://digital-photography-school.com/6-reaso...</td>\n",
       "      <td>https://digital-photography-school.com/6-reaso...</td>\n",
       "      <td>9 Reasons Why Photography Matters</td>\n",
       "      <td>2024-12-02 23:13:34</td>\n",
       "      <td>2312</td>\n",
       "      <td>Digital Photography School</td>\n",
       "    </tr>\n",
       "  </tbody>\n",
       "</table>\n",
       "</div>"
      ],
      "text/plain": [
       "   pocket_item_id                                          given_url  \\\n",
       "0         5598506                                   https://nat.org/   \n",
       "1        42378269  https://matt.might.net/articles/shell-scripts-...   \n",
       "2       132470062  https://www.kalzumeus.com/2012/01/23/salary-ne...   \n",
       "3       172658679        https://stevehanov.ca/blog/index.php?id=132   \n",
       "4       210539245  https://digital-photography-school.com/6-reaso...   \n",
       "\n",
       "                                        resolved_url  \\\n",
       "0                                    http://nat.org/   \n",
       "1  http://matt.might.net/articles/shell-scripts-f...   \n",
       "2  https://www.kalzumeus.com/2012/01/23/salary-ne...   \n",
       "3         http://stevehanov.ca/blog/index.php?id=132   \n",
       "4  https://digital-photography-school.com/6-reaso...   \n",
       "\n",
       "                                               title          time_added  \\\n",
       "0                                       Nat Friedman 2025-01-15 11:20:58   \n",
       "1  3 shell scripts to improve your writing, or \"M... 2024-12-29 12:19:45   \n",
       "2  Salary Negotiation: Make More Money, Be More V... 2024-11-15 12:07:03   \n",
       "3  20 lines of code that will beat A/B testing ev... 2025-01-15 00:24:49   \n",
       "4                  9 Reasons Why Photography Matters 2024-12-02 23:13:34   \n",
       "\n",
       "   word_count                      domain  \n",
       "0         451                     nat.org  \n",
       "1        1881              matt.might.net  \n",
       "2        6794           www.kalzumeus.com  \n",
       "3         970               stevehanov.ca  \n",
       "4        2312  Digital Photography School  "
      ]
     },
     "execution_count": 11,
     "metadata": {},
     "output_type": "execute_result"
    }
   ],
   "source": [
    "df = pd.DataFrame([article.model_dump() for article in pocket_items])\n",
    "df.to_csv(\"pocket_articles.csv\", index=False)\n",
    "df.head()"
   ]
  },
  {
   "cell_type": "markdown",
   "metadata": {},
   "source": [
    "### b. From csv file\n"
   ]
  },
  {
   "cell_type": "code",
   "execution_count": 3,
   "metadata": {},
   "outputs": [
    {
     "data": {
      "text/html": [
       "<div>\n",
       "<style scoped>\n",
       "    .dataframe tbody tr th:only-of-type {\n",
       "        vertical-align: middle;\n",
       "    }\n",
       "\n",
       "    .dataframe tbody tr th {\n",
       "        vertical-align: top;\n",
       "    }\n",
       "\n",
       "    .dataframe thead th {\n",
       "        text-align: right;\n",
       "    }\n",
       "</style>\n",
       "<table border=\"1\" class=\"dataframe\">\n",
       "  <thead>\n",
       "    <tr style=\"text-align: right;\">\n",
       "      <th></th>\n",
       "      <th>pocket_item_id</th>\n",
       "      <th>given_url</th>\n",
       "      <th>resolved_url</th>\n",
       "      <th>title</th>\n",
       "      <th>time_added</th>\n",
       "      <th>word_count</th>\n",
       "      <th>domain</th>\n",
       "      <th>text</th>\n",
       "    </tr>\n",
       "  </thead>\n",
       "  <tbody>\n",
       "    <tr>\n",
       "      <th>0</th>\n",
       "      <td>5598506</td>\n",
       "      <td>https://nat.org/</td>\n",
       "      <td>http://nat.org/</td>\n",
       "      <td>Nat Friedman</td>\n",
       "      <td>2025-01-15 11:20:58</td>\n",
       "      <td>451</td>\n",
       "      <td>nat.org</td>\n",
       "      <td>Title: Nat Friedman\\n\\nURL Source: http://nat....</td>\n",
       "    </tr>\n",
       "    <tr>\n",
       "      <th>1</th>\n",
       "      <td>42378269</td>\n",
       "      <td>https://matt.might.net/articles/shell-scripts-...</td>\n",
       "      <td>http://matt.might.net/articles/shell-scripts-f...</td>\n",
       "      <td>3 shell scripts to improve your writing, or \"M...</td>\n",
       "      <td>2024-12-29 12:19:45</td>\n",
       "      <td>1881</td>\n",
       "      <td>matt.might.net</td>\n",
       "      <td>Title: Kill weasel words, avoid the passive, e...</td>\n",
       "    </tr>\n",
       "    <tr>\n",
       "      <th>2</th>\n",
       "      <td>132470062</td>\n",
       "      <td>https://www.kalzumeus.com/2012/01/23/salary-ne...</td>\n",
       "      <td>https://www.kalzumeus.com/2012/01/23/salary-ne...</td>\n",
       "      <td>Salary Negotiation: Make More Money, Be More V...</td>\n",
       "      <td>2024-11-15 12:07:03</td>\n",
       "      <td>6794</td>\n",
       "      <td>www.kalzumeus.com</td>\n",
       "      <td>Title: Salary Negotiation: Make More Money, Be...</td>\n",
       "    </tr>\n",
       "    <tr>\n",
       "      <th>3</th>\n",
       "      <td>172658679</td>\n",
       "      <td>https://stevehanov.ca/blog/index.php?id=132</td>\n",
       "      <td>http://stevehanov.ca/blog/index.php?id=132</td>\n",
       "      <td>20 lines of code that will beat A/B testing ev...</td>\n",
       "      <td>2025-01-15 00:24:49</td>\n",
       "      <td>970</td>\n",
       "      <td>stevehanov.ca</td>\n",
       "      <td>Title: 20 lines of code that will beat A/B tes...</td>\n",
       "    </tr>\n",
       "    <tr>\n",
       "      <th>4</th>\n",
       "      <td>210539245</td>\n",
       "      <td>https://digital-photography-school.com/6-reaso...</td>\n",
       "      <td>https://digital-photography-school.com/6-reaso...</td>\n",
       "      <td>9 Reasons Why Photography Matters</td>\n",
       "      <td>2024-12-02 23:13:34</td>\n",
       "      <td>2312</td>\n",
       "      <td>Digital Photography School</td>\n",
       "      <td>Title: 9 Reasons Why Photography Matters\\n\\nUR...</td>\n",
       "    </tr>\n",
       "  </tbody>\n",
       "</table>\n",
       "</div>"
      ],
      "text/plain": [
       "   pocket_item_id                                          given_url  \\\n",
       "0         5598506                                   https://nat.org/   \n",
       "1        42378269  https://matt.might.net/articles/shell-scripts-...   \n",
       "2       132470062  https://www.kalzumeus.com/2012/01/23/salary-ne...   \n",
       "3       172658679        https://stevehanov.ca/blog/index.php?id=132   \n",
       "4       210539245  https://digital-photography-school.com/6-reaso...   \n",
       "\n",
       "                                        resolved_url  \\\n",
       "0                                    http://nat.org/   \n",
       "1  http://matt.might.net/articles/shell-scripts-f...   \n",
       "2  https://www.kalzumeus.com/2012/01/23/salary-ne...   \n",
       "3         http://stevehanov.ca/blog/index.php?id=132   \n",
       "4  https://digital-photography-school.com/6-reaso...   \n",
       "\n",
       "                                               title           time_added  \\\n",
       "0                                       Nat Friedman  2025-01-15 11:20:58   \n",
       "1  3 shell scripts to improve your writing, or \"M...  2024-12-29 12:19:45   \n",
       "2  Salary Negotiation: Make More Money, Be More V...  2024-11-15 12:07:03   \n",
       "3  20 lines of code that will beat A/B testing ev...  2025-01-15 00:24:49   \n",
       "4                  9 Reasons Why Photography Matters  2024-12-02 23:13:34   \n",
       "\n",
       "   word_count                      domain  \\\n",
       "0         451                     nat.org   \n",
       "1        1881              matt.might.net   \n",
       "2        6794           www.kalzumeus.com   \n",
       "3         970               stevehanov.ca   \n",
       "4        2312  Digital Photography School   \n",
       "\n",
       "                                                text  \n",
       "0  Title: Nat Friedman\\n\\nURL Source: http://nat....  \n",
       "1  Title: Kill weasel words, avoid the passive, e...  \n",
       "2  Title: Salary Negotiation: Make More Money, Be...  \n",
       "3  Title: 20 lines of code that will beat A/B tes...  \n",
       "4  Title: 9 Reasons Why Photography Matters\\n\\nUR...  "
      ]
     },
     "execution_count": 3,
     "metadata": {},
     "output_type": "execute_result"
    }
   ],
   "source": [
    "# df = pd.read_csv(\"pocket_articles.csv\")\n",
    "df = pd.read_csv(\"pocket_articles_with_text.csv\")\n",
    "df.head()"
   ]
  },
  {
   "cell_type": "code",
   "execution_count": 4,
   "metadata": {},
   "outputs": [],
   "source": [
    "df = df.replace({float(\"nan\"): None})\n",
    "pocket_items = [Article(**row) for _, row in df.iterrows()]"
   ]
  },
  {
   "cell_type": "markdown",
   "metadata": {},
   "source": [
    "## Extract texts using `r.jina.ai`\n"
   ]
  },
  {
   "cell_type": "markdown",
   "metadata": {},
   "source": [
    "I will use [Jina Reader](https://jina.ai/reader/) to extract the text of the saved articles. Its free API is limited to 20 requests per minute, but you can pay and use an API key to get 200 requests per minute limit. Visit [their website](https://jina.ai/) to get an API key.\n"
   ]
  },
  {
   "cell_type": "code",
   "execution_count": 18,
   "metadata": {},
   "outputs": [],
   "source": [
    "JINA_API_KEY = os.getenv(\"JINA_API_KEY\")"
   ]
  },
  {
   "cell_type": "code",
   "execution_count": 25,
   "metadata": {},
   "outputs": [],
   "source": [
    "def get_url_text(url: str) -> str:\n",
    "    request_url = f\"https://r.jina.ai/{url}\"\n",
    "    headers = {\"Authorization\": f\"Bearer {JINA_API_KEY}\", \"X-No-Cache\": \"true\"}\n",
    "    r = requests.get(request_url, headers=headers)\n",
    "\n",
    "    if r.status_code == 402:\n",
    "        raise Exception(\"Token limit reached.\")\n",
    "    if r.status_code != 200:\n",
    "        print(f\"Error fetching {url}: {r.status_code}, sleeping for 10 seconds ...\")\n",
    "        time.sleep(10)\n",
    "        return get_url_text(url)\n",
    "    return r.text"
   ]
  },
  {
   "cell_type": "code",
   "execution_count": 22,
   "metadata": {},
   "outputs": [],
   "source": [
    "## slow, but less likely to get rate limited\n",
    "\n",
    "# for i, item in enumerate(pocket_items):\n",
    "#     if item.text:\n",
    "#         continue\n",
    "\n",
    "#     item.text = get_url_text(item.resolved_url)\n",
    "#     if i % 25 == 0:\n",
    "#         print(f\"Processed {i} articles, {len(pocket_items) - i} articles left ...\")\n"
   ]
  },
  {
   "cell_type": "code",
   "execution_count": 24,
   "metadata": {},
   "outputs": [
    {
     "name": "stderr",
     "output_type": "stream",
     "text": [
      "0it [00:00, ?it/s]\n"
     ]
    }
   ],
   "source": [
    "## fast, but you'll get rate limited and should try again\n",
    "\n",
    "\n",
    "def process_batch(items: list[tuple[int, object]], max_workers=10):\n",
    "    with ThreadPoolExecutor(max_workers=max_workers) as executor:\n",
    "        future_to_item = {\n",
    "            executor.submit(get_url_text, item.resolved_url): (i, item)\n",
    "            for i, item in items\n",
    "        }\n",
    "\n",
    "        for future in tqdm.tqdm(as_completed(future_to_item), total=len(items)):\n",
    "            i, item = future_to_item[future]\n",
    "            try:\n",
    "                item.text = future.result()\n",
    "            except Exception as e:\n",
    "                print(f\"Error processing item {i}: {e}\")\n",
    "\n",
    "\n",
    "items_with_index = [(i, item) for i, item in enumerate(pocket_items) if not item.text]\n",
    "process_batch(items_with_index)\n"
   ]
  },
  {
   "cell_type": "code",
   "execution_count": 23,
   "metadata": {},
   "outputs": [
    {
     "data": {
      "text/html": [
       "<div>\n",
       "<style scoped>\n",
       "    .dataframe tbody tr th:only-of-type {\n",
       "        vertical-align: middle;\n",
       "    }\n",
       "\n",
       "    .dataframe tbody tr th {\n",
       "        vertical-align: top;\n",
       "    }\n",
       "\n",
       "    .dataframe thead th {\n",
       "        text-align: right;\n",
       "    }\n",
       "</style>\n",
       "<table border=\"1\" class=\"dataframe\">\n",
       "  <thead>\n",
       "    <tr style=\"text-align: right;\">\n",
       "      <th></th>\n",
       "      <th>pocket_item_id</th>\n",
       "      <th>given_url</th>\n",
       "      <th>resolved_url</th>\n",
       "      <th>title</th>\n",
       "      <th>time_added</th>\n",
       "      <th>word_count</th>\n",
       "      <th>domain</th>\n",
       "      <th>text</th>\n",
       "    </tr>\n",
       "  </thead>\n",
       "  <tbody>\n",
       "    <tr>\n",
       "      <th>0</th>\n",
       "      <td>5598506</td>\n",
       "      <td>https://nat.org/</td>\n",
       "      <td>http://nat.org/</td>\n",
       "      <td>Nat Friedman</td>\n",
       "      <td>2025-01-15 11:20:58</td>\n",
       "      <td>451</td>\n",
       "      <td>nat.org</td>\n",
       "      <td>Title: Nat Friedman\\n\\nURL Source: http://nat....</td>\n",
       "    </tr>\n",
       "    <tr>\n",
       "      <th>1</th>\n",
       "      <td>42378269</td>\n",
       "      <td>https://matt.might.net/articles/shell-scripts-...</td>\n",
       "      <td>http://matt.might.net/articles/shell-scripts-f...</td>\n",
       "      <td>3 shell scripts to improve your writing, or \"M...</td>\n",
       "      <td>2024-12-29 12:19:45</td>\n",
       "      <td>1881</td>\n",
       "      <td>matt.might.net</td>\n",
       "      <td>Title: Kill weasel words, avoid the passive, e...</td>\n",
       "    </tr>\n",
       "    <tr>\n",
       "      <th>2</th>\n",
       "      <td>132470062</td>\n",
       "      <td>https://www.kalzumeus.com/2012/01/23/salary-ne...</td>\n",
       "      <td>https://www.kalzumeus.com/2012/01/23/salary-ne...</td>\n",
       "      <td>Salary Negotiation: Make More Money, Be More V...</td>\n",
       "      <td>2024-11-15 12:07:03</td>\n",
       "      <td>6794</td>\n",
       "      <td>www.kalzumeus.com</td>\n",
       "      <td>Title: Salary Negotiation: Make More Money, Be...</td>\n",
       "    </tr>\n",
       "    <tr>\n",
       "      <th>3</th>\n",
       "      <td>172658679</td>\n",
       "      <td>https://stevehanov.ca/blog/index.php?id=132</td>\n",
       "      <td>http://stevehanov.ca/blog/index.php?id=132</td>\n",
       "      <td>20 lines of code that will beat A/B testing ev...</td>\n",
       "      <td>2025-01-15 00:24:49</td>\n",
       "      <td>970</td>\n",
       "      <td>stevehanov.ca</td>\n",
       "      <td>Title: 20 lines of code that will beat A/B tes...</td>\n",
       "    </tr>\n",
       "    <tr>\n",
       "      <th>4</th>\n",
       "      <td>210539245</td>\n",
       "      <td>https://digital-photography-school.com/6-reaso...</td>\n",
       "      <td>https://digital-photography-school.com/6-reaso...</td>\n",
       "      <td>9 Reasons Why Photography Matters</td>\n",
       "      <td>2024-12-02 23:13:34</td>\n",
       "      <td>2312</td>\n",
       "      <td>Digital Photography School</td>\n",
       "      <td>Title: 9 Reasons Why Photography Matters\\n\\nUR...</td>\n",
       "    </tr>\n",
       "  </tbody>\n",
       "</table>\n",
       "</div>"
      ],
      "text/plain": [
       "   pocket_item_id                                          given_url  \\\n",
       "0         5598506                                   https://nat.org/   \n",
       "1        42378269  https://matt.might.net/articles/shell-scripts-...   \n",
       "2       132470062  https://www.kalzumeus.com/2012/01/23/salary-ne...   \n",
       "3       172658679        https://stevehanov.ca/blog/index.php?id=132   \n",
       "4       210539245  https://digital-photography-school.com/6-reaso...   \n",
       "\n",
       "                                        resolved_url  \\\n",
       "0                                    http://nat.org/   \n",
       "1  http://matt.might.net/articles/shell-scripts-f...   \n",
       "2  https://www.kalzumeus.com/2012/01/23/salary-ne...   \n",
       "3         http://stevehanov.ca/blog/index.php?id=132   \n",
       "4  https://digital-photography-school.com/6-reaso...   \n",
       "\n",
       "                                               title          time_added  \\\n",
       "0                                       Nat Friedman 2025-01-15 11:20:58   \n",
       "1  3 shell scripts to improve your writing, or \"M... 2024-12-29 12:19:45   \n",
       "2  Salary Negotiation: Make More Money, Be More V... 2024-11-15 12:07:03   \n",
       "3  20 lines of code that will beat A/B testing ev... 2025-01-15 00:24:49   \n",
       "4                  9 Reasons Why Photography Matters 2024-12-02 23:13:34   \n",
       "\n",
       "   word_count                      domain  \\\n",
       "0         451                     nat.org   \n",
       "1        1881              matt.might.net   \n",
       "2        6794           www.kalzumeus.com   \n",
       "3         970               stevehanov.ca   \n",
       "4        2312  Digital Photography School   \n",
       "\n",
       "                                                text  \n",
       "0  Title: Nat Friedman\\n\\nURL Source: http://nat....  \n",
       "1  Title: Kill weasel words, avoid the passive, e...  \n",
       "2  Title: Salary Negotiation: Make More Money, Be...  \n",
       "3  Title: 20 lines of code that will beat A/B tes...  \n",
       "4  Title: 9 Reasons Why Photography Matters\\n\\nUR...  "
      ]
     },
     "execution_count": 23,
     "metadata": {},
     "output_type": "execute_result"
    }
   ],
   "source": [
    "df = pd.DataFrame([article.model_dump() for article in pocket_items])\n",
    "df.to_csv(\"pocket_articles_with_text.csv\", index=False)\n",
    "df.head()"
   ]
  },
  {
   "cell_type": "code",
   "execution_count": 4,
   "metadata": {},
   "outputs": [
    {
     "name": "stdout",
     "output_type": "stream",
     "text": [
      "(3691, 8)\n"
     ]
    },
    {
     "data": {
      "text/html": [
       "<div>\n",
       "<style scoped>\n",
       "    .dataframe tbody tr th:only-of-type {\n",
       "        vertical-align: middle;\n",
       "    }\n",
       "\n",
       "    .dataframe tbody tr th {\n",
       "        vertical-align: top;\n",
       "    }\n",
       "\n",
       "    .dataframe thead th {\n",
       "        text-align: right;\n",
       "    }\n",
       "</style>\n",
       "<table border=\"1\" class=\"dataframe\">\n",
       "  <thead>\n",
       "    <tr style=\"text-align: right;\">\n",
       "      <th></th>\n",
       "      <th>pocket_item_id</th>\n",
       "      <th>given_url</th>\n",
       "      <th>resolved_url</th>\n",
       "      <th>title</th>\n",
       "      <th>time_added</th>\n",
       "      <th>word_count</th>\n",
       "      <th>domain</th>\n",
       "      <th>text</th>\n",
       "    </tr>\n",
       "  </thead>\n",
       "  <tbody>\n",
       "    <tr>\n",
       "      <th>0</th>\n",
       "      <td>5598506</td>\n",
       "      <td>https://nat.org/</td>\n",
       "      <td>http://nat.org/</td>\n",
       "      <td>Nat Friedman</td>\n",
       "      <td>2025-01-15 11:20:58</td>\n",
       "      <td>451</td>\n",
       "      <td>nat.org</td>\n",
       "      <td>Title: Nat Friedman\\n\\nURL Source: http://nat....</td>\n",
       "    </tr>\n",
       "    <tr>\n",
       "      <th>1</th>\n",
       "      <td>42378269</td>\n",
       "      <td>https://matt.might.net/articles/shell-scripts-...</td>\n",
       "      <td>http://matt.might.net/articles/shell-scripts-f...</td>\n",
       "      <td>3 shell scripts to improve your writing, or \"M...</td>\n",
       "      <td>2024-12-29 12:19:45</td>\n",
       "      <td>1881</td>\n",
       "      <td>matt.might.net</td>\n",
       "      <td>Title: Kill weasel words, avoid the passive, e...</td>\n",
       "    </tr>\n",
       "  </tbody>\n",
       "</table>\n",
       "</div>"
      ],
      "text/plain": [
       "   pocket_item_id                                          given_url  \\\n",
       "0         5598506                                   https://nat.org/   \n",
       "1        42378269  https://matt.might.net/articles/shell-scripts-...   \n",
       "\n",
       "                                        resolved_url  \\\n",
       "0                                    http://nat.org/   \n",
       "1  http://matt.might.net/articles/shell-scripts-f...   \n",
       "\n",
       "                                               title           time_added  \\\n",
       "0                                       Nat Friedman  2025-01-15 11:20:58   \n",
       "1  3 shell scripts to improve your writing, or \"M...  2024-12-29 12:19:45   \n",
       "\n",
       "   word_count          domain  \\\n",
       "0         451         nat.org   \n",
       "1        1881  matt.might.net   \n",
       "\n",
       "                                                text  \n",
       "0  Title: Nat Friedman\\n\\nURL Source: http://nat....  \n",
       "1  Title: Kill weasel words, avoid the passive, e...  "
      ]
     },
     "execution_count": 4,
     "metadata": {},
     "output_type": "execute_result"
    }
   ],
   "source": [
    "## if already saved\n",
    "df = pd.read_csv(\"pocket_articles_with_text.csv\")\n",
    "print(df.shape)\n",
    "df.head(2)"
   ]
  },
  {
   "cell_type": "code",
   "execution_count": null,
   "metadata": {},
   "outputs": [
    {
     "name": "stderr",
     "output_type": "stream",
     "text": [
      "/var/folders/91/9ftjbh9516n335fl5bxhw12w0000gn/T/ipykernel_17426/3573386153.py:1: TqdmDeprecationWarning: This function will be removed in tqdm==5.0.0\n",
      "Please use `tqdm.notebook.*` instead of `tqdm._tqdm_notebook.*`\n",
      "  from tqdm._tqdm_notebook import tqdm_notebook\n"
     ]
    },
    {
     "data": {
      "application/vnd.jupyter.widget-view+json": {
       "model_id": "d564901a87cb4c8ca31451f819f6c96d",
       "version_major": 2,
       "version_minor": 0
      },
      "text/plain": [
       "  0%|          | 0/3691 [00:00<?, ?it/s]"
      ]
     },
     "metadata": {},
     "output_type": "display_data"
    },
    {
     "data": {
      "text/html": [
       "<div>\n",
       "<style scoped>\n",
       "    .dataframe tbody tr th:only-of-type {\n",
       "        vertical-align: middle;\n",
       "    }\n",
       "\n",
       "    .dataframe tbody tr th {\n",
       "        vertical-align: top;\n",
       "    }\n",
       "\n",
       "    .dataframe thead th {\n",
       "        text-align: right;\n",
       "    }\n",
       "</style>\n",
       "<table border=\"1\" class=\"dataframe\">\n",
       "  <thead>\n",
       "    <tr style=\"text-align: right;\">\n",
       "      <th></th>\n",
       "      <th>pocket_item_id</th>\n",
       "      <th>given_url</th>\n",
       "      <th>resolved_url</th>\n",
       "      <th>title</th>\n",
       "      <th>time_added</th>\n",
       "      <th>word_count</th>\n",
       "      <th>domain</th>\n",
       "      <th>text</th>\n",
       "      <th>token_count</th>\n",
       "    </tr>\n",
       "  </thead>\n",
       "  <tbody>\n",
       "    <tr>\n",
       "      <th>0</th>\n",
       "      <td>5598506</td>\n",
       "      <td>https://nat.org/</td>\n",
       "      <td>http://nat.org/</td>\n",
       "      <td>Nat Friedman</td>\n",
       "      <td>2025-01-15 11:20:58</td>\n",
       "      <td>451</td>\n",
       "      <td>nat.org</td>\n",
       "      <td>Title: Nat Friedman\\n\\nURL Source: http://nat....</td>\n",
       "      <td>714</td>\n",
       "    </tr>\n",
       "    <tr>\n",
       "      <th>1</th>\n",
       "      <td>42378269</td>\n",
       "      <td>https://matt.might.net/articles/shell-scripts-...</td>\n",
       "      <td>http://matt.might.net/articles/shell-scripts-f...</td>\n",
       "      <td>3 shell scripts to improve your writing, or \"M...</td>\n",
       "      <td>2024-12-29 12:19:45</td>\n",
       "      <td>1881</td>\n",
       "      <td>matt.might.net</td>\n",
       "      <td>Title: Kill weasel words, avoid the passive, e...</td>\n",
       "      <td>3092</td>\n",
       "    </tr>\n",
       "    <tr>\n",
       "      <th>2</th>\n",
       "      <td>132470062</td>\n",
       "      <td>https://www.kalzumeus.com/2012/01/23/salary-ne...</td>\n",
       "      <td>https://www.kalzumeus.com/2012/01/23/salary-ne...</td>\n",
       "      <td>Salary Negotiation: Make More Money, Be More V...</td>\n",
       "      <td>2024-11-15 12:07:03</td>\n",
       "      <td>6794</td>\n",
       "      <td>www.kalzumeus.com</td>\n",
       "      <td>Title: Salary Negotiation: Make More Money, Be...</td>\n",
       "      <td>9507</td>\n",
       "    </tr>\n",
       "    <tr>\n",
       "      <th>3</th>\n",
       "      <td>172658679</td>\n",
       "      <td>https://stevehanov.ca/blog/index.php?id=132</td>\n",
       "      <td>http://stevehanov.ca/blog/index.php?id=132</td>\n",
       "      <td>20 lines of code that will beat A/B testing ev...</td>\n",
       "      <td>2025-01-15 00:24:49</td>\n",
       "      <td>970</td>\n",
       "      <td>stevehanov.ca</td>\n",
       "      <td>Title: 20 lines of code that will beat A/B tes...</td>\n",
       "      <td>98248</td>\n",
       "    </tr>\n",
       "    <tr>\n",
       "      <th>4</th>\n",
       "      <td>210539245</td>\n",
       "      <td>https://digital-photography-school.com/6-reaso...</td>\n",
       "      <td>https://digital-photography-school.com/6-reaso...</td>\n",
       "      <td>9 Reasons Why Photography Matters</td>\n",
       "      <td>2024-12-02 23:13:34</td>\n",
       "      <td>2312</td>\n",
       "      <td>Digital Photography School</td>\n",
       "      <td>Title: 9 Reasons Why Photography Matters\\n\\nUR...</td>\n",
       "      <td>3560</td>\n",
       "    </tr>\n",
       "  </tbody>\n",
       "</table>\n",
       "</div>"
      ],
      "text/plain": [
       "   pocket_item_id                                          given_url  \\\n",
       "0         5598506                                   https://nat.org/   \n",
       "1        42378269  https://matt.might.net/articles/shell-scripts-...   \n",
       "2       132470062  https://www.kalzumeus.com/2012/01/23/salary-ne...   \n",
       "3       172658679        https://stevehanov.ca/blog/index.php?id=132   \n",
       "4       210539245  https://digital-photography-school.com/6-reaso...   \n",
       "\n",
       "                                        resolved_url  \\\n",
       "0                                    http://nat.org/   \n",
       "1  http://matt.might.net/articles/shell-scripts-f...   \n",
       "2  https://www.kalzumeus.com/2012/01/23/salary-ne...   \n",
       "3         http://stevehanov.ca/blog/index.php?id=132   \n",
       "4  https://digital-photography-school.com/6-reaso...   \n",
       "\n",
       "                                               title           time_added  \\\n",
       "0                                       Nat Friedman  2025-01-15 11:20:58   \n",
       "1  3 shell scripts to improve your writing, or \"M...  2024-12-29 12:19:45   \n",
       "2  Salary Negotiation: Make More Money, Be More V...  2024-11-15 12:07:03   \n",
       "3  20 lines of code that will beat A/B testing ev...  2025-01-15 00:24:49   \n",
       "4                  9 Reasons Why Photography Matters  2024-12-02 23:13:34   \n",
       "\n",
       "   word_count                      domain  \\\n",
       "0         451                     nat.org   \n",
       "1        1881              matt.might.net   \n",
       "2        6794           www.kalzumeus.com   \n",
       "3         970               stevehanov.ca   \n",
       "4        2312  Digital Photography School   \n",
       "\n",
       "                                                text  token_count  \n",
       "0  Title: Nat Friedman\\n\\nURL Source: http://nat....          714  \n",
       "1  Title: Kill weasel words, avoid the passive, e...         3092  \n",
       "2  Title: Salary Negotiation: Make More Money, Be...         9507  \n",
       "3  Title: 20 lines of code that will beat A/B tes...        98248  \n",
       "4  Title: 9 Reasons Why Photography Matters\\n\\nUR...         3560  "
      ]
     },
     "execution_count": 5,
     "metadata": {},
     "output_type": "execute_result"
    }
   ],
   "source": [
    "from tqdm.notebook import tqdm_notebook\n",
    "\n",
    "\n",
    "def count_tokens(text: str) -> int:\n",
    "    ## using gpt-4o tokenizer just to get an estimate\n",
    "    return len(tiktoken.encoding_for_model(\"gpt-4o\").encode(text))\n",
    "\n",
    "\n",
    "tqdm_notebook.pandas()\n",
    "df[\"token_count\"] = df[\"text\"].progress_apply(count_tokens)\n",
    "df.head()\n",
    "# df.to_csv(\"pocket_articles_with_text_and_token_count.csv\", index=False)\n"
   ]
  },
  {
   "cell_type": "code",
   "execution_count": 13,
   "metadata": {},
   "outputs": [
    {
     "name": "stdout",
     "output_type": "stream",
     "text": [
      "total 13,032,360\n",
      "count      3691.000000\n",
      "mean       3530.848009\n",
      "std        8088.208652\n",
      "min          15.000000\n",
      "25%        1170.500000\n",
      "50%        2137.000000\n",
      "75%        4030.500000\n",
      "max      310254.000000\n",
      "Name: token_count, dtype: float64\n"
     ]
    },
    {
     "data": {
      "text/plain": [
       "<Axes: >"
      ]
     },
     "execution_count": 13,
     "metadata": {},
     "output_type": "execute_result"
    },
    {
     "data": {
      "image/png": "[encoded data removed]",
      "text/plain": [
       "<Figure size 640x480 with 1 Axes>"
      ]
     },
     "metadata": {},
     "output_type": "display_data"
    }
   ],
   "source": [
    "total_tokens = df[\"token_count\"].sum()\n",
    "print(f\"total {total_tokens:,}\")\n",
    "print(df[\"token_count\"].describe())\n",
    "df[df[\"token_count\"] < df[\"token_count\"].quantile(0.95)][\"token_count\"].hist(bins=30)"
   ]
  },
  {
   "cell_type": "markdown",
   "metadata": {},
   "source": [
    "## Summarize texts\n"
   ]
  },
  {
   "cell_type": "code",
   "execution_count": 15,
   "metadata": {},
   "outputs": [
    {
     "data": {
      "text/html": [
       "<div>\n",
       "<style scoped>\n",
       "    .dataframe tbody tr th:only-of-type {\n",
       "        vertical-align: middle;\n",
       "    }\n",
       "\n",
       "    .dataframe tbody tr th {\n",
       "        vertical-align: top;\n",
       "    }\n",
       "\n",
       "    .dataframe thead th {\n",
       "        text-align: right;\n",
       "    }\n",
       "</style>\n",
       "<table border=\"1\" class=\"dataframe\">\n",
       "  <thead>\n",
       "    <tr style=\"text-align: right;\">\n",
       "      <th></th>\n",
       "      <th>pocket_item_id</th>\n",
       "      <th>given_url</th>\n",
       "      <th>resolved_url</th>\n",
       "      <th>title</th>\n",
       "      <th>time_added</th>\n",
       "      <th>word_count</th>\n",
       "      <th>domain</th>\n",
       "      <th>text</th>\n",
       "      <th>summary</th>\n",
       "    </tr>\n",
       "  </thead>\n",
       "  <tbody>\n",
       "    <tr>\n",
       "      <th>0</th>\n",
       "      <td>5598506</td>\n",
       "      <td>https://nat.org/</td>\n",
       "      <td>http://nat.org/</td>\n",
       "      <td>Nat Friedman</td>\n",
       "      <td>2025-01-15 11:20:58</td>\n",
       "      <td>451</td>\n",
       "      <td>nat.org</td>\n",
       "      <td>Title: Nat Friedman\\n\\nURL Source: http://nat....</td>\n",
       "      <td>I'm an investor, entrepreneur, and developer w...</td>\n",
       "    </tr>\n",
       "    <tr>\n",
       "      <th>1</th>\n",
       "      <td>42378269</td>\n",
       "      <td>https://matt.might.net/articles/shell-scripts-...</td>\n",
       "      <td>http://matt.might.net/articles/shell-scripts-f...</td>\n",
       "      <td>3 shell scripts to improve your writing, or \"M...</td>\n",
       "      <td>2024-12-29 12:19:45</td>\n",
       "      <td>1881</td>\n",
       "      <td>matt.might.net</td>\n",
       "      <td>Title: Kill weasel words, avoid the passive, e...</td>\n",
       "      <td>Advising Ph.D. students often involves teachin...</td>\n",
       "    </tr>\n",
       "  </tbody>\n",
       "</table>\n",
       "</div>"
      ],
      "text/plain": [
       "   pocket_item_id                                          given_url  \\\n",
       "0         5598506                                   https://nat.org/   \n",
       "1        42378269  https://matt.might.net/articles/shell-scripts-...   \n",
       "\n",
       "                                        resolved_url  \\\n",
       "0                                    http://nat.org/   \n",
       "1  http://matt.might.net/articles/shell-scripts-f...   \n",
       "\n",
       "                                               title           time_added  \\\n",
       "0                                       Nat Friedman  2025-01-15 11:20:58   \n",
       "1  3 shell scripts to improve your writing, or \"M...  2024-12-29 12:19:45   \n",
       "\n",
       "   word_count          domain  \\\n",
       "0         451         nat.org   \n",
       "1        1881  matt.might.net   \n",
       "\n",
       "                                                text  \\\n",
       "0  Title: Nat Friedman\\n\\nURL Source: http://nat....   \n",
       "1  Title: Kill weasel words, avoid the passive, e...   \n",
       "\n",
       "                                             summary  \n",
       "0  I'm an investor, entrepreneur, and developer w...  \n",
       "1  Advising Ph.D. students often involves teachin...  "
      ]
     },
     "execution_count": 15,
     "metadata": {},
     "output_type": "execute_result"
    }
   ],
   "source": [
    "GEMINI_API_KEY = os.getenv(\"GEMINI_API_KEY\")\n",
    "\n",
    "df = pd.read_csv(\"pocket_articles_with_summary.csv\")\n",
    "df = df.replace({float(\"nan\"): None})\n",
    "pocket_items = [Article(**row) for _, row in df.iterrows()]\n",
    "df.head(2)"
   ]
  },
  {
   "cell_type": "markdown",
   "metadata": {},
   "source": [
    "We will use Google Gemini model with OpenAI Python SDK to summarize text into a few paragraphs:"
   ]
  },
  {
   "cell_type": "code",
   "execution_count": 64,
   "metadata": {},
   "outputs": [
    {
     "name": "stdout",
     "output_type": "stream",
     "text": [
      "\n",
      "I'm Nat Friedman, an investor, entrepreneur, and developer. I've been online since '91, which I consider my real hometown. My fascination with Richard Feynman led me to MIT, and from there, I co-founded Ximian and Xamarin. Later, I served as CEO of GitHub from 2018 to 2021. Currently, I live in California and am diving into projects like reading the Herculaneum Papyri and testing Bay Area foods for plastic chemicals.\n",
      "\n",
      "I fundamentally believe that humans have a right, maybe even a duty, to reshape the universe to our liking, and technology, which is really just knowledge, is the key. I think it’s better to raise the ceiling than the floor. Enthusiasm is critical; it fuels progress and makes tackling ambitious projects easier. Speed is also important, it forces focus and promotes learning through frequent reality checks. \"Slow is fake.\" Remember, a week is 2% of the year.\n",
      "\n",
      "Furthermore, I believe the efficient market hypothesis is largely incorrect. Great opportunities arise where it fails. We often overstate our knowledge, and the replication crisis highlights how many of our assumptions are flawed. The aversion to micromanagement can be detrimental; empowering talented individuals to use their judgment is essential, even if it means accepting some mistakes. Smaller teams are generally more effective and allow for faster decisions and higher quality work. Finally, it's important to understand where your dopamine comes from, as it will heavily influence your actions. I strive to get mine from improving my ideas and making things happen. Ultimately, I believe we are all capable of achieving far more than we realize, if we can break free from the invisible constraints of orthodoxy. The laws of physics are the only limit.\n",
      "\n"
     ]
    }
   ],
   "source": [
    "llm_client = OpenAI(\n",
    "    base_url=\"https://generativelanguage.googleapis.com/v1beta/openai/\",\n",
    "    api_key=os.getenv(\"GEMINI_API_KEY\")\n",
    ")\n",
    "\n",
    "\n",
    "def summarize_text(text: str) -> str:\n",
    "    try:\n",
    "        completion = llm_client.chat.completions.create(\n",
    "            model=\"gemini-2.0-flash\",\n",
    "            messages=[\n",
    "                {\n",
    "                    \"role\": \"system\",\n",
    "                    \"content\": \"Summarize the provided text in 2-5 paragraphs, maintaining the original author's first-person perspective and voice. The summary should read as if the original author wrote it themselves as a condensed version of their full text. Return the summary between <summary> and </summary> tags.\",\n",
    "                },\n",
    "                {\"role\": \"user\", \"content\": f\"<text>{text}</text>\"},\n",
    "            ],\n",
    "        )\n",
    "        summary = re.search(\n",
    "            r\"<summary>(.*?)</summary>\",\n",
    "            completion.choices[0].message.content,\n",
    "            re.DOTALL,\n",
    "        )\n",
    "        if summary:\n",
    "            return True, summary.group(1)\n",
    "        else:\n",
    "            return False, completion.choices[0].message.content\n",
    "    except Exception as e:\n",
    "        print(f\"summary error: {e}, sleeping for 30 seconds ...\")\n",
    "        time.sleep(30)\n",
    "        return None, None\n",
    "\n",
    "\n",
    "summary = summarize_text(df[\"text\"].iloc[0])\n",
    "print(summary[1])"
   ]
  },
  {
   "cell_type": "code",
   "execution_count": 61,
   "metadata": {},
   "outputs": [],
   "source": [
    "for i, item in enumerate(pocket_items):\n",
    "    if item.summary or item.summary_attempted_message:\n",
    "        continue\n",
    "\n",
    "    success, message = summarize_text(item.text)\n",
    "    if success:\n",
    "        item.summary = message\n",
    "    else:\n",
    "        item.summary_attempted_message = message\n",
    "        \n",
    "    if i % 50 == 0:\n",
    "        print(f\"Processed {i} urls, {len(pocket_items) - i} left ...\")"
   ]
  },
  {
   "cell_type": "code",
   "execution_count": null,
   "metadata": {},
   "outputs": [
    {
     "name": "stdout",
     "output_type": "stream",
     "text": [
      "138\n"
     ]
    },
    {
     "data": {
      "text/html": [
       "<div>\n",
       "<style scoped>\n",
       "    .dataframe tbody tr th:only-of-type {\n",
       "        vertical-align: middle;\n",
       "    }\n",
       "\n",
       "    .dataframe tbody tr th {\n",
       "        vertical-align: top;\n",
       "    }\n",
       "\n",
       "    .dataframe thead th {\n",
       "        text-align: right;\n",
       "    }\n",
       "</style>\n",
       "<table border=\"1\" class=\"dataframe\">\n",
       "  <thead>\n",
       "    <tr style=\"text-align: right;\">\n",
       "      <th></th>\n",
       "      <th>pocket_item_id</th>\n",
       "      <th>given_url</th>\n",
       "      <th>resolved_url</th>\n",
       "      <th>title</th>\n",
       "      <th>time_added</th>\n",
       "      <th>word_count</th>\n",
       "      <th>domain</th>\n",
       "      <th>text</th>\n",
       "      <th>summary</th>\n",
       "      <th>summary_attempted_message</th>\n",
       "    </tr>\n",
       "  </thead>\n",
       "  <tbody>\n",
       "    <tr>\n",
       "      <th>0</th>\n",
       "      <td>5598506</td>\n",
       "      <td>https://nat.org/</td>\n",
       "      <td>http://nat.org/</td>\n",
       "      <td>Nat Friedman</td>\n",
       "      <td>2025-01-15 11:20:58</td>\n",
       "      <td>451</td>\n",
       "      <td>nat.org</td>\n",
       "      <td>Title: Nat Friedman\\n\\nURL Source: http://nat....</td>\n",
       "      <td>I'm an investor, entrepreneur, and developer w...</td>\n",
       "      <td>None</td>\n",
       "    </tr>\n",
       "    <tr>\n",
       "      <th>1</th>\n",
       "      <td>42378269</td>\n",
       "      <td>https://matt.might.net/articles/shell-scripts-...</td>\n",
       "      <td>http://matt.might.net/articles/shell-scripts-f...</td>\n",
       "      <td>3 shell scripts to improve your writing, or \"M...</td>\n",
       "      <td>2024-12-29 12:19:45</td>\n",
       "      <td>1881</td>\n",
       "      <td>matt.might.net</td>\n",
       "      <td>Title: Kill weasel words, avoid the passive, e...</td>\n",
       "      <td>Advising Ph.D. students often involves teachin...</td>\n",
       "      <td>None</td>\n",
       "    </tr>\n",
       "  </tbody>\n",
       "</table>\n",
       "</div>"
      ],
      "text/plain": [
       "   pocket_item_id                                          given_url  \\\n",
       "0         5598506                                   https://nat.org/   \n",
       "1        42378269  https://matt.might.net/articles/shell-scripts-...   \n",
       "\n",
       "                                        resolved_url  \\\n",
       "0                                    http://nat.org/   \n",
       "1  http://matt.might.net/articles/shell-scripts-f...   \n",
       "\n",
       "                                               title          time_added  \\\n",
       "0                                       Nat Friedman 2025-01-15 11:20:58   \n",
       "1  3 shell scripts to improve your writing, or \"M... 2024-12-29 12:19:45   \n",
       "\n",
       "   word_count          domain  \\\n",
       "0         451         nat.org   \n",
       "1        1881  matt.might.net   \n",
       "\n",
       "                                                text  \\\n",
       "0  Title: Nat Friedman\\n\\nURL Source: http://nat....   \n",
       "1  Title: Kill weasel words, avoid the passive, e...   \n",
       "\n",
       "                                             summary summary_attempted_message  \n",
       "0  I'm an investor, entrepreneur, and developer w...                      None  \n",
       "1  Advising Ph.D. students often involves teachin...                      None  "
      ]
     },
     "execution_count": 62,
     "metadata": {},
     "output_type": "execute_result"
    }
   ],
   "source": [
    "df = pd.DataFrame([article.model_dump() for article in pocket_items])\n",
    "df[\"summary\"] = df[\"summary\"].str.strip()\n",
    "df.to_csv(\"pocket_articles_with_summary.csv\", index=False)\n",
    "df.head(2)"
   ]
  },
  {
   "cell_type": "code",
   "execution_count": null,
   "metadata": {},
   "outputs": [],
   "source": []
  }
 ],
 "metadata": {
  "kernelspec": {
   "display_name": ".venv",
   "language": "python",
   "name": "python3"
  },
  "language_info": {
   "codemirror_mode": {
    "name": "ipython",
    "version": 3
   },
   "file_extension": ".py",
   "mimetype": "text/x-python",
   "name": "python",
   "nbconvert_exporter": "python",
   "pygments_lexer": "ipython3",
   "version": "3.11.9"
  }
 },
 "nbformat": 4,
 "nbformat_minor": 2
}
