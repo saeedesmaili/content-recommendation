{
 "cells": [
  {
   "cell_type": "code",
   "execution_count": 1,
   "metadata": {},
   "outputs": [],
   "source": [
    "from datetime import datetime\n",
    "\n",
    "import requests\n",
    "from pydantic import BaseModel, HttpUrl"
   ]
  },
  {
   "cell_type": "markdown",
   "metadata": {},
   "source": [
    "## 1. List of likes articles\n"
   ]
  },
  {
   "cell_type": "code",
   "execution_count": 2,
   "metadata": {},
   "outputs": [],
   "source": [
    "POCKET_HEADERS = {\n",
    "    \"Content-Type\": \"application/json; charset=UTF8\",\n",
    "    \"X-Accept\": \"application/json\",\n",
    "}\n",
    "POCKET_CONSUMER_KEY = \"108134-83b2a1ee1df047f0bb2598a\"\n",
    "POCKET_ACCESS_TOKEN = \"17dcf008-b6a5-ce23-dc51-379858\""
   ]
  },
  {
   "cell_type": "code",
   "execution_count": 3,
   "metadata": {},
   "outputs": [],
   "source": [
    "class Article(BaseModel):\n",
    "    pocket_item_id: int\n",
    "    given_url: HttpUrl\n",
    "    resolved_url: HttpUrl\n",
    "    title: str\n",
    "    time_added: datetime\n",
    "    word_count: int\n",
    "    domain: str"
   ]
  },
  {
   "cell_type": "code",
   "execution_count": 6,
   "metadata": {},
   "outputs": [
    {
     "name": "stdout",
     "output_type": "stream",
     "text": [
      "Fetching more articles... 500 / 3692\n",
      "Fetching more articles... 1000 / 3692\n",
      "Fetching more articles... 1500 / 3692\n",
      "Fetching more articles... 2000 / 3692\n",
      "Error processing item 3945908435: 1 validation error for Article\n",
      "resolved_url\n",
      "  Input should be a valid URL, input is empty [type=url_parsing, input_value='', input_type=str]\n",
      "    For further information visit https://errors.pydantic.dev/2.10/v/url_parsing\n",
      "Fetching more articles... 2500 / 3692\n",
      "Fetching more articles... 3000 / 3692\n",
      "Fetching more articles... 3500 / 3692\n",
      "Fetched 4000 articles\n",
      "3691\n"
     ]
    },
    {
     "data": {
      "text/plain": [
       "Article(pocket_item_id=5598506, given_url=HttpUrl('https://nat.org/'), resolved_url=HttpUrl('http://nat.org/'), title='Nat Friedman', time_added=datetime.datetime(2025, 1, 15, 11, 20, 58), word_count=451, domain='nat.org')"
      ]
     },
     "execution_count": 6,
     "metadata": {},
     "output_type": "execute_result"
    }
   ],
   "source": [
    "def get_pocket_items(state: str = \"archive\") -> list[Article]:\n",
    "    \"\"\"\n",
    "    Get all items archive in pocket\n",
    "    \"\"\"\n",
    "    pocket_items = []\n",
    "    count = 500\n",
    "    offset = 0\n",
    "    while True:\n",
    "        payload = {\n",
    "            \"consumer_key\": POCKET_CONSUMER_KEY,\n",
    "            \"access_token\": POCKET_ACCESS_TOKEN,\n",
    "            \"state\": state,\n",
    "            \"sort\": \"newest\",\n",
    "            \"count\": count,\n",
    "            \"offset\": offset,\n",
    "            \"detailType\": \"complete\",\n",
    "            \"total\": \"1\",  ## total number of archived articles\n",
    "        }\n",
    "\n",
    "        url = \"https://getpocket.com/v3/get\"\n",
    "        r = requests.request(\"Post\", url=url, headers=POCKET_HEADERS, json=payload)\n",
    "\n",
    "        for item in r.json()[\"list\"]:\n",
    "            pocket_item = r.json()[\"list\"][item]\n",
    "            try:\n",
    "                pocket_items.append(\n",
    "                    Article(\n",
    "                        pocket_item_id=int(pocket_item[\"item_id\"]),\n",
    "                        given_url=pocket_item[\"given_url\"],\n",
    "                        resolved_url=pocket_item[\"resolved_url\"],\n",
    "                        title=pocket_item[\"resolved_title\"],\n",
    "                        time_added=datetime.fromtimestamp(\n",
    "                            int(pocket_item[\"time_added\"])\n",
    "                        ),\n",
    "                        word_count=int(pocket_item[\"word_count\"]),\n",
    "                        domain=pocket_item.get(\"domain_metadata\", {}).get(\"name\", \"\"),\n",
    "                    )\n",
    "                )\n",
    "            except Exception as e:\n",
    "                print(f\"Error processing item {pocket_item['item_id']}: {e}\")\n",
    "                continue\n",
    "\n",
    "        if int(r.json()[\"total\"]) > count + offset:\n",
    "            print(f\"Fetching more articles... {count + offset} / {r.json()['total']}\")\n",
    "            offset += count\n",
    "        else:\n",
    "            print(f\"Fetched {offset + count} articles\")\n",
    "            break\n",
    "\n",
    "    return pocket_items\n",
    "\n",
    "\n",
    "pocket_items = get_pocket_items()\n",
    "print(len(pocket_items))\n",
    "pocket_items[0]"
   ]
  }
 ],
 "metadata": {
  "kernelspec": {
   "display_name": ".venv",
   "language": "python",
   "name": "python3"
  },
  "language_info": {
   "codemirror_mode": {
    "name": "ipython",
    "version": 3
   },
   "file_extension": ".py",
   "mimetype": "text/x-python",
   "name": "python",
   "nbconvert_exporter": "python",
   "pygments_lexer": "ipython3",
   "version": "3.11.9"
  }
 },
 "nbformat": 4,
 "nbformat_minor": 2
}
